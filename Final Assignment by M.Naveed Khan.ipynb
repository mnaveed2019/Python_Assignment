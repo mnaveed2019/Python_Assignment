{
 "cells": [
  {
   "cell_type": "markdown",
   "metadata": {},
   "source": [
    "# 1. Calculate Area of a Circle"
   ]
  },
  {
   "cell_type": "code",
   "execution_count": 4,
   "metadata": {},
   "outputs": [
    {
     "name": "stdout",
     "output_type": "stream",
     "text": [
      "Lets find Area of circle\n",
      "Enter Radius of circle in centimeters : 6\n",
      "Area of the circle is:113.09400000000001cm\n"
     ]
    }
   ],
   "source": [
    "# To find Area of circle\n",
    "print(\"Lets find Area of circle\")\n",
    "#\n",
    "\n",
    "def area():\n",
    "    a=float(3.1415)                                            #value of pie is 3.1415...\n",
    "    b=float(input(\"Enter Radius of circle in centimeters : \")) #user will inter value of Radius\n",
    "    c=float(b*b)                                              #taking squier of radius input by user\n",
    "    Area=float(a*c)                                          # using farmula of area for circle\n",
    "    print(f\"Area of the circle is:{Area}cm\")\n",
    "area()"
   ]
  },
  {
   "cell_type": "markdown",
   "metadata": {},
   "source": [
    "# 2. Check Number either positive, negative or zero"
   ]
  },
  {
   "cell_type": "code",
   "execution_count": 2,
   "metadata": {},
   "outputs": [
    {
     "name": "stdout",
     "output_type": "stream",
     "text": [
      "Enter number: 4\n",
      "Number is positive\n"
     ]
    }
   ],
   "source": [
    "#To Check number is +ve,-ve,or 0\n",
    "a=float(input(\"Enter number: \"))\n",
    "if a>0:\n",
    "    print(\"Number is positive\")\n",
    "elif a<0:\n",
    "        print(\"Number is negitive\")\n",
    "else:\n",
    "    print(\"Number is zero\")"
   ]
  },
  {
   "cell_type": "markdown",
   "metadata": {},
   "source": [
    "# 3. Divisibility Check of two numbers"
   ]
  },
  {
   "cell_type": "code",
   "execution_count": 3,
   "metadata": {},
   "outputs": [
    {
     "name": "stdout",
     "output_type": "stream",
     "text": [
      "Enter numerator: 4\n",
      "Enter denomerator: 2\n",
      "Number 4.0 is divisible by 2.0\n"
     ]
    }
   ],
   "source": [
    "#To check divisiability\n",
    "\n",
    "a=float(input(\"Enter numerator: \"))\n",
    "b=float(input(\"Enter denomerator: \"))\n",
    "try:\n",
    "    c=a%b\n",
    "    if c==0:\n",
    "        print(f\"Number {a} is divisible by {b}\")\n",
    "    else:\n",
    "        print(f\"Number {a} is not divisible by {b}\")\n",
    "except:\n",
    "    print(\"ZerroDivision in not allowed\")\n"
   ]
  },
  {
   "cell_type": "markdown",
   "metadata": {},
   "source": [
    "# 4. Days Calculator"
   ]
  },
  {
   "cell_type": "code",
   "execution_count": null,
   "metadata": {},
   "outputs": [],
   "source": []
  },
  {
   "cell_type": "code",
   "execution_count": null,
   "metadata": {},
   "outputs": [],
   "source": []
  }
 ],
 "metadata": {
  "kernelspec": {
   "display_name": "Python 3",
   "language": "python",
   "name": "python3"
  },
  "language_info": {
   "codemirror_mode": {
    "name": "ipython",
    "version": 3
   },
   "file_extension": ".py",
   "mimetype": "text/x-python",
   "name": "python",
   "nbconvert_exporter": "python",
   "pygments_lexer": "ipython3",
   "version": "3.7.4"
  }
 },
 "nbformat": 4,
 "nbformat_minor": 2
}
